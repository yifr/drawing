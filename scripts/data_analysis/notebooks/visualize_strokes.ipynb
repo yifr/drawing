{
 "cells": [
  {
   "cell_type": "markdown",
   "id": "8532b103",
   "metadata": {},
   "source": [
    "### Visualize strokes\n",
    "This notebook is designed for exploratory analysis by visualizing user strokes."
   ]
  },
  {
   "cell_type": "code",
   "execution_count": 52,
   "id": "fea0ffe8",
   "metadata": {},
   "outputs": [
    {
     "name": "stdout",
     "output_type": "stream",
     "text": [
      "Visualizing data from experiment file: ../../../data_experiment/laps_0.1/raw/raw_experiment_data.json\n"
     ]
    }
   ],
   "source": [
    "EXPERIMENT_GROUP = \"0.1\" # Set this to determine which experiment to visualize\n",
    "\n",
    "ROOT_DIR = \"../../..\"\n",
    "DATA_DIRECTORY = \"data_experiment/laps_{}/raw\"\n",
    "DATA_FILE = \"raw_experiment_data.json\"\n",
    "\n",
    "IMAGES_BASE_DIRECTORY = \"static/images\"\n",
    "\n",
    "USER_STROKES_DIRECTORY = \"data_experiment/laps_{}/strokes\"\n",
    "\n",
    "import os, json, argparse, random, copy\n",
    "import pathlib\n",
    "from datetime import datetime\n",
    "from collections import defaultdict\n",
    "\n",
    "image_directory = os.path.join(ROOT_DIR, IMAGES_BASE_DIRECTORY)\n",
    "experiment_file = os.path.join(ROOT_DIR, DATA_DIRECTORY.format(EXPERIMENT_GROUP), DATA_FILE)\n",
    "print(f\"Visualizing data from experiment file: {experiment_file}\")\n",
    "with open(experiment_file) as f:\n",
    "    experiment_data = json.load(f)"
   ]
  },
  {
   "cell_type": "code",
   "execution_count": 53,
   "id": "e8a74436",
   "metadata": {},
   "outputs": [
    {
     "name": "stderr",
     "output_type": "stream",
     "text": [
      "UsageError: Line magic function `%%javascript` not found.\n"
     ]
    }
   ],
   "source": [
    "experiment_ids = experiment_data['metadata']['experiment_ids']\n",
    "exclusion_users = experiment_data['metadata']['exclusion_users']\n",
    "experiments = experiment_data['experiment_ids']\n",
    "ALL = \"all\"\n",
    "\n",
    "%%javascript\n",
    "IPython.OutputArea.auto_scroll_threshold = 9999"
   ]
  },
  {
   "cell_type": "markdown",
   "id": "ad865205",
   "metadata": {},
   "source": [
    "#### Experiment summary statistics"
   ]
  },
  {
   "cell_type": "code",
   "execution_count": 55,
   "id": "460d9765",
   "metadata": {},
   "outputs": [
    {
     "name": "stdout",
     "output_type": "stream",
     "text": [
      "0_baselines_priors__train-none__test-default__neurips_2020\n",
      "\tall: 2 subject\n",
      "1_no_provided_language__train-im-dr__test-default__neurips_2020\n",
      "\tcondition_S13: 2 subject\n",
      "\tcondition_S12: 2 subject\n",
      "3_producing_language__train-im-de__test-default__neurips_2020\n",
      "\tcondition_S12: 2 subject\n",
      "\tcondition_S13: 2 subject\n",
      "3_producing_language__train-im-dr-de__test-default__neurips_2020\n",
      "\tcondition_S12: 2 subject\n",
      "\tcondition_S13: 2 subject\n",
      "Exclude these users: ['602d84f17cdd707e9caed37a', '5f9aba6600cdf11f1c9b915c']\n"
     ]
    }
   ],
   "source": [
    "for experiment_id in experiment_ids:\n",
    "    print(experiment_id)\n",
    "    for condition in experiments[experiment_id]['conditions']:\n",
    "        print(f\"\\t{condition}: {len(experiments[experiment_id]['conditions'][condition])} subject\")\n",
    "\n",
    "print(f\"Exclude these users: {exclusion_users}\")\n"
   ]
  },
  {
   "cell_type": "markdown",
   "id": "5037f035",
   "metadata": {},
   "source": [
    "#### Visualize images and strokes"
   ]
  },
  {
   "cell_type": "code",
   "execution_count": 48,
   "id": "e3db6818",
   "metadata": {},
   "outputs": [],
   "source": [
    "# Drawgood utility functions\n",
    "import sys\n",
    "sys.path.append('../..')\n",
    "\n",
    "from drawgoodlib import utils"
   ]
  },
  {
   "cell_type": "code",
   "execution_count": 56,
   "id": "d67c3d18",
   "metadata": {},
   "outputs": [],
   "source": [
    "def get_user_stroke_images(experiment_id, condition, user_id, user_images, user_strokes):\n",
    "    user_stroke_images, user_stroke_gifs  = [], []\n",
    "    for img_idx, img in enumerate(user_images):\n",
    "        if img is None: continue\n",
    "        stroke_img_file = f\"{user_id}_{os.path.basename(img)}\"\n",
    "        stroke_img_dir = os.path.join(ROOT_DIR, USER_STROKES_DIRECTORY.format(EXPERIMENT_GROUP), experiment_id, condition)\n",
    "        full_stroke_img_path = os.path.join(stroke_img_dir, stroke_img_file)\n",
    "        user_stroke_images.append(full_stroke_img_path)\n",
    "        if not os.path.exists(full_stroke_img_path):\n",
    "            pathlib.Path(stroke_img_dir).mkdir(parents=True, exist_ok=True)\n",
    "            raw_strokes = user_strokes[img_idx]\n",
    "            stroke_data = utils.process_stroke_data(raw_strokes)\n",
    "            utils.saveDrawing(stroke_data, full_stroke_img_path)\n",
    "        \n",
    "        full_stroke_img_gif = full_stroke_img_path + \".gif\"\n",
    "        user_stroke_gifs.append(full_stroke_img_gif)\n",
    "        if not os.path.exists(full_stroke_img_gif):\n",
    "            pathlib.Path(stroke_img_dir).mkdir(parents=True, exist_ok=True)\n",
    "            raw_strokes = user_strokes[img_idx]\n",
    "            stroke_data = utils.process_stroke_data(raw_strokes)\n",
    "            utils.save_stroke_gif(stroke_data, full_stroke_img_gif)\n",
    "            \n",
    "    return user_stroke_images, user_stroke_gifs\n",
    "            "
   ]
  },
  {
   "cell_type": "code",
   "execution_count": 60,
   "id": "ccc11eb4",
   "metadata": {},
   "outputs": [
    {
     "name": "stdout",
     "output_type": "stream",
     "text": [
      "608806ee5cb6c96016e36cba\n",
      "38\n",
      "47\n",
      "6063a3fd79f4debb67ffdb23\n",
      "38\n",
      "47\n",
      "6047ff03cb24e712c17514b7\n",
      "38\n",
      "47\n"
     ]
    },
    {
     "data": {
      "text/html": [
       "<div>Visualizing strokes for: 1_no_provided_language__train-im-dr__test-default__neurips_2020</div><div>Condition: condition_S13</div><div>\n",
       "User 0/2</div><div>Condition: condition_S12</div><div>\n",
       "User 0/2</div><div>\n",
       "User 1/2</div>"
      ],
      "text/plain": [
       "<IPython.core.display.HTML object>"
      ]
     },
     "execution_count": 60,
     "metadata": {},
     "output_type": "execute_result"
    }
   ],
   "source": [
    "from IPython.display import HTML, Image\n",
    "\n",
    "def _src_from_data(data):\n",
    "    \"\"\"Base64 encodes image bytes for inclusion in an HTML img element\"\"\"\n",
    "    img_obj = Image(data=data)\n",
    "    for bundle in img_obj._repr_mimebundle_():\n",
    "        for mimetype, b64value in bundle.items():\n",
    "            if mimetype.startswith('image/'):\n",
    "                return f'data:{mimetype};base64,{b64value}'\n",
    "\n",
    "def visualizer_gallery_html(images, stroke_images, descriptions, row_height='auto'):\n",
    "    \"\"\"Shows a set of images in a gallery that flexes with the width of the notebook.\n",
    "    \"\"\"\n",
    "    figures = []\n",
    "    for image_idx, image in enumerate(images):\n",
    "        if isinstance(image, bytes):\n",
    "            original_image = _src_from_data(image)\n",
    "            caption = ''\n",
    "        else:\n",
    "            original_image = image\n",
    "            img_description = descriptions[image_idx]\n",
    "            stroke_image = stroke_images[image_idx]\n",
    "            caption = f'<div style=\"font-size: 0.7em; width: {row_height};\">{img_description}</div>'\n",
    "        figures.append(f'''\n",
    "            <div style=\"display: block\">\n",
    "            <img src=\"{stroke_image}\" style=\"height: {row_height};\">\n",
    "            {caption}\n",
    "            </div>\n",
    "           \n",
    "        ''')\n",
    "    return f'''\n",
    "        <div style=\"display: flex; flex-flow: row wrap;\">\n",
    "        {''.join(figures)}\n",
    "        </div>\n",
    "    '''\n",
    "\n",
    "def text_html(text):\n",
    "    return f\"<div>{text}</div>\"\n",
    "\n",
    "html = \"\"\n",
    "experiments_to_load = ['1_no_provided_language__train-im-dr__test-default__neurips_2020']\n",
    "for experiment_id in experiment_ids:\n",
    "    should_load = experiment_id in experiments_to_load or ALL in experiments_to_load\n",
    "    this_experiment = experiments[experiment_id]\n",
    "    has_users = this_experiment['summary']['total_users'] > 0\n",
    "    if not should_load: continue\n",
    "    if not has_users: continue\n",
    "    html += text_html(f\"Visualizing strokes for: {experiment_id}\")\n",
    "    \n",
    "    for condition in this_experiment['conditions']:\n",
    "        html += text_html(f\"Condition: {condition}\")\n",
    "        condition_users = this_experiment['conditions'][condition]\n",
    "\n",
    "        for idx, user_id in enumerate(condition_users):\n",
    "            if user_id in exclusion_users: continue\n",
    "            html += text_html(f\"\\nUser {idx}/{len(condition_users)}\")\n",
    "            user_images = this_experiment['images'][user_id]\n",
    "            user_descriptions = this_experiment['descriptions'][user_id]\n",
    "            user_strokes = this_experiment['strokes'][user_id]\n",
    "            \n",
    "            user_images = [os.path.join(image_directory, img) for img in user_images if img is not None]\n",
    "            \n",
    "            stroke_images, stroke_gifs = get_user_stroke_images(experiment_id, condition, user_id, user_images, user_strokes)\n",
    "            \n",
    "            html += visualizer_gallery_html(user_images, stroke_images, user_descriptions, row_height='100px')\n",
    "\n",
    "HTML(data=html)\n",
    "    "
   ]
  },
  {
   "cell_type": "markdown",
   "id": "dd0a452b",
   "metadata": {},
   "source": [
    "#### Visualize samples"
   ]
  },
  {
   "cell_type": "code",
   "execution_count": 19,
   "id": "abe1bb0a",
   "metadata": {},
   "outputs": [
    {
     "name": "stdout",
     "output_type": "stream",
     "text": [
      "10\n"
     ]
    },
    {
     "ename": "IndexError",
     "evalue": "tuple index out of range",
     "output_type": "error",
     "traceback": [
      "\u001b[0;31m---------------------------------------------------------------------------\u001b[0m",
      "\u001b[0;31mIndexError\u001b[0m                                Traceback (most recent call last)",
      "\u001b[0;32m<ipython-input-19-9db92bd39f1a>\u001b[0m in \u001b[0;36m<module>\u001b[0;34m\u001b[0m\n\u001b[1;32m     29\u001b[0m \u001b[0;34m\u001b[0m\u001b[0m\n\u001b[1;32m     30\u001b[0m \u001b[0;34m\u001b[0m\u001b[0m\n\u001b[0;32m---> 31\u001b[0;31m             \u001b[0mhtml\u001b[0m \u001b[0;34m+=\u001b[0m \u001b[0mvisualizer_gallery_html\u001b[0m\u001b[0;34m(\u001b[0m\u001b[0muser_samples\u001b[0m\u001b[0;34m,\u001b[0m \u001b[0mstroke_images\u001b[0m\u001b[0;34m,\u001b[0m \u001b[0msample_descriptions\u001b[0m\u001b[0;34m,\u001b[0m \u001b[0mrow_height\u001b[0m\u001b[0;34m=\u001b[0m\u001b[0;34m'100px'\u001b[0m\u001b[0;34m)\u001b[0m\u001b[0;34m\u001b[0m\u001b[0;34m\u001b[0m\u001b[0m\n\u001b[0m\u001b[1;32m     32\u001b[0m \u001b[0;34m\u001b[0m\u001b[0m\n\u001b[1;32m     33\u001b[0m \u001b[0mHTML\u001b[0m\u001b[0;34m(\u001b[0m\u001b[0mdata\u001b[0m\u001b[0;34m=\u001b[0m\u001b[0mhtml\u001b[0m\u001b[0;34m)\u001b[0m\u001b[0;34m\u001b[0m\u001b[0;34m\u001b[0m\u001b[0m\n",
      "\u001b[0;32m<ipython-input-16-87e56369c6d4>\u001b[0m in \u001b[0;36mvisualizer_gallery_html\u001b[0;34m(images, stroke_images, descriptions, row_height)\u001b[0m\n\u001b[1;32m     20\u001b[0m             \u001b[0moriginal_image\u001b[0m \u001b[0;34m=\u001b[0m \u001b[0mimage\u001b[0m\u001b[0;34m\u001b[0m\u001b[0;34m\u001b[0m\u001b[0m\n\u001b[1;32m     21\u001b[0m             \u001b[0mimg_description\u001b[0m \u001b[0;34m=\u001b[0m \u001b[0mdescriptions\u001b[0m\u001b[0;34m[\u001b[0m\u001b[0mimage_idx\u001b[0m\u001b[0;34m]\u001b[0m\u001b[0;34m\u001b[0m\u001b[0;34m\u001b[0m\u001b[0m\n\u001b[0;32m---> 22\u001b[0;31m             \u001b[0mstroke_image\u001b[0m \u001b[0;34m=\u001b[0m \u001b[0mstroke_images\u001b[0m\u001b[0;34m[\u001b[0m\u001b[0mimage_idx\u001b[0m\u001b[0;34m]\u001b[0m\u001b[0;34m\u001b[0m\u001b[0;34m\u001b[0m\u001b[0m\n\u001b[0m\u001b[1;32m     23\u001b[0m             \u001b[0mcaption\u001b[0m \u001b[0;34m=\u001b[0m \u001b[0;34mf'<div style=\"font-size: 0.7em; width: {row_height};\">{img_description}</div>'\u001b[0m\u001b[0;34m\u001b[0m\u001b[0;34m\u001b[0m\u001b[0m\n\u001b[1;32m     24\u001b[0m         figures.append(f'''\n",
      "\u001b[0;31mIndexError\u001b[0m: tuple index out of range"
     ]
    }
   ],
   "source": [
    "html = \"\"\n",
    "experiments_to_load = [ALL]\n",
    "for experiment_id in experiment_ids:\n",
    "    should_load = experiment_ids in experiments_to_load or ALL in experiments_to_load\n",
    "    this_experiment = experiments[experiment_id]\n",
    "    has_users = this_experiment['summary']['total_users'] > 0\n",
    "    if not should_load: continue\n",
    "    if not has_users: continue\n",
    "    html += text_html(f\"Visualizing samples for: {experiment_id}\")\n",
    "    \n",
    "    for condition in this_experiment['conditions']:\n",
    "        html += text_html(f\"Condition: {condition}\")\n",
    "        condition_users = this_experiment['conditions'][condition]\n",
    "        for idx, user_id in enumerate(condition_users):\n",
    "            html += text_html(f\"\\nUser {idx}/{len(condition_users)}\")\n",
    "            user_images = this_experiment['images'][user_id]\n",
    "            user_descriptions = this_experiment['descriptions'][user_id]\n",
    "            user_strokes = this_experiment['strokes'][user_id]\n",
    "            \n",
    "            user_samples = [img for img in user_images if img is None]\n",
    "            print(len(user_samples))\n",
    "            user_samples = [f\"sample_{idx}.png\" for (idx, _) in enumerate(user_samples)]\n",
    "            user_samples = [os.path.join(image_directory, img) for img in user_samples]\n",
    "            \n",
    "            sample_descriptions = user_descriptions[-len(user_samples):]\n",
    "            sample_strokes = user_strokes[-len(user_samples):]\n",
    "            \n",
    "            stroke_images = get_user_stroke_images(experiment_id, condition, user_id, user_samples, sample_strokes)\n",
    "            \n",
    "            \n",
    "            html += visualizer_gallery_html(user_samples, stroke_images, sample_descriptions, row_height='100px')\n",
    "\n",
    "HTML(data=html)\n",
    "    "
   ]
  },
  {
   "cell_type": "code",
   "execution_count": null,
   "id": "eaba8f48",
   "metadata": {},
   "outputs": [],
   "source": []
  },
  {
   "cell_type": "code",
   "execution_count": null,
   "id": "6f8acd1e",
   "metadata": {},
   "outputs": [],
   "source": []
  }
 ],
 "metadata": {
  "kernelspec": {
   "display_name": "Python 3",
   "language": "python",
   "name": "python3"
  },
  "language_info": {
   "codemirror_mode": {
    "name": "ipython",
    "version": 3
   },
   "file_extension": ".py",
   "mimetype": "text/x-python",
   "name": "python",
   "nbconvert_exporter": "python",
   "pygments_lexer": "ipython3",
   "version": "3.7.7"
  }
 },
 "nbformat": 4,
 "nbformat_minor": 5
}
